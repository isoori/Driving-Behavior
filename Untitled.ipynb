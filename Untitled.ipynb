{
 "cells": [
  {
   "cell_type": "code",
   "execution_count": 2,
   "id": "6f831f40",
   "metadata": {},
   "outputs": [],
   "source": [
    "import numpy as np\n",
    "import pandas as pd"
   ]
  },
  {
   "cell_type": "code",
   "execution_count": 3,
   "id": "6bd31a4e",
   "metadata": {},
   "outputs": [
    {
     "data": {
      "text/html": [
       "<div>\n",
       "<style scoped>\n",
       "    .dataframe tbody tr th:only-of-type {\n",
       "        vertical-align: middle;\n",
       "    }\n",
       "\n",
       "    .dataframe tbody tr th {\n",
       "        vertical-align: top;\n",
       "    }\n",
       "\n",
       "    .dataframe thead th {\n",
       "        text-align: right;\n",
       "    }\n",
       "</style>\n",
       "<table border=\"1\" class=\"dataframe\">\n",
       "  <thead>\n",
       "    <tr style=\"text-align: right;\">\n",
       "      <th></th>\n",
       "      <th>AccX</th>\n",
       "      <th>AccY</th>\n",
       "      <th>AccZ</th>\n",
       "      <th>GyroX</th>\n",
       "      <th>GyroY</th>\n",
       "      <th>GyroZ</th>\n",
       "      <th>Class</th>\n",
       "      <th>Timestamp</th>\n",
       "    </tr>\n",
       "  </thead>\n",
       "  <tbody>\n",
       "    <tr>\n",
       "      <th>0</th>\n",
       "      <td>0.000000</td>\n",
       "      <td>0.000000</td>\n",
       "      <td>0.000000</td>\n",
       "      <td>0.059407</td>\n",
       "      <td>-0.174707</td>\n",
       "      <td>0.101938</td>\n",
       "      <td>NORMAL</td>\n",
       "      <td>3581629</td>\n",
       "    </tr>\n",
       "    <tr>\n",
       "      <th>1</th>\n",
       "      <td>-1.624864</td>\n",
       "      <td>-1.082492</td>\n",
       "      <td>-0.204183</td>\n",
       "      <td>-0.028558</td>\n",
       "      <td>0.051313</td>\n",
       "      <td>0.135536</td>\n",
       "      <td>NORMAL</td>\n",
       "      <td>3581630</td>\n",
       "    </tr>\n",
       "    <tr>\n",
       "      <th>2</th>\n",
       "      <td>-0.594660</td>\n",
       "      <td>-0.122410</td>\n",
       "      <td>0.220502</td>\n",
       "      <td>-0.019395</td>\n",
       "      <td>-0.029322</td>\n",
       "      <td>0.087888</td>\n",
       "      <td>NORMAL</td>\n",
       "      <td>3581630</td>\n",
       "    </tr>\n",
       "    <tr>\n",
       "      <th>3</th>\n",
       "      <td>0.738478</td>\n",
       "      <td>-0.228456</td>\n",
       "      <td>0.667732</td>\n",
       "      <td>0.069791</td>\n",
       "      <td>-0.029932</td>\n",
       "      <td>0.054902</td>\n",
       "      <td>NORMAL</td>\n",
       "      <td>3581631</td>\n",
       "    </tr>\n",
       "    <tr>\n",
       "      <th>4</th>\n",
       "      <td>0.101741</td>\n",
       "      <td>0.777568</td>\n",
       "      <td>-0.066730</td>\n",
       "      <td>0.030696</td>\n",
       "      <td>-0.003665</td>\n",
       "      <td>0.054902</td>\n",
       "      <td>NORMAL</td>\n",
       "      <td>3581631</td>\n",
       "    </tr>\n",
       "  </tbody>\n",
       "</table>\n",
       "</div>"
      ],
      "text/plain": [
       "       AccX      AccY      AccZ     GyroX     GyroY     GyroZ   Class  \\\n",
       "0  0.000000  0.000000  0.000000  0.059407 -0.174707  0.101938  NORMAL   \n",
       "1 -1.624864 -1.082492 -0.204183 -0.028558  0.051313  0.135536  NORMAL   \n",
       "2 -0.594660 -0.122410  0.220502 -0.019395 -0.029322  0.087888  NORMAL   \n",
       "3  0.738478 -0.228456  0.667732  0.069791 -0.029932  0.054902  NORMAL   \n",
       "4  0.101741  0.777568 -0.066730  0.030696 -0.003665  0.054902  NORMAL   \n",
       "\n",
       "   Timestamp  \n",
       "0    3581629  \n",
       "1    3581630  \n",
       "2    3581630  \n",
       "3    3581631  \n",
       "4    3581631  "
      ]
     },
     "execution_count": 3,
     "metadata": {},
     "output_type": "execute_result"
    }
   ],
   "source": [
    "df = pd.read_csv('train_motion_data.csv')\n",
    "df.head()"
   ]
  },
  {
   "cell_type": "code",
   "execution_count": 4,
   "id": "cd511d33",
   "metadata": {},
   "outputs": [
    {
     "data": {
      "text/plain": [
       "SLOW          1331\n",
       "NORMAL        1200\n",
       "AGGRESSIVE    1113\n",
       "Name: Class, dtype: int64"
      ]
     },
     "execution_count": 4,
     "metadata": {},
     "output_type": "execute_result"
    }
   ],
   "source": [
    "df['Class'].value_counts()"
   ]
  },
  {
   "cell_type": "code",
   "execution_count": null,
   "id": "c268ebb1",
   "metadata": {},
   "outputs": [],
   "source": []
  }
 ],
 "metadata": {
  "kernelspec": {
   "display_name": "Python 3 (ipykernel)",
   "language": "python",
   "name": "python3"
  },
  "language_info": {
   "codemirror_mode": {
    "name": "ipython",
    "version": 3
   },
   "file_extension": ".py",
   "mimetype": "text/x-python",
   "name": "python",
   "nbconvert_exporter": "python",
   "pygments_lexer": "ipython3",
   "version": "3.9.12"
  }
 },
 "nbformat": 4,
 "nbformat_minor": 5
}
